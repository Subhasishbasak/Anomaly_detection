{
 "cells": [
  {
   "cell_type": "markdown",
   "metadata": {},
   "source": [
    "## Credit Suisse"
   ]
  },
  {
   "cell_type": "code",
   "execution_count": 2,
   "metadata": {},
   "outputs": [],
   "source": [
    "import pandas as pd\n",
    "import numpy as np\n",
    "import re\n",
    "import warnings\n",
    "warnings.filterwarnings(\"ignore\")"
   ]
  },
  {
   "cell_type": "code",
   "execution_count": 3,
   "metadata": {},
   "outputs": [],
   "source": [
    "missing_values = [\"n/a\", \"na\", \"--\", ' ', \"NAN\"]\n",
    "data = pd.read_csv(\"../resources/Data.csv\", na_values = missing_values)"
   ]
  },
  {
   "cell_type": "code",
   "execution_count": 4,
   "metadata": {},
   "outputs": [
    {
     "data": {
      "text/html": [
       "<div>\n",
       "<style scoped>\n",
       "    .dataframe tbody tr th:only-of-type {\n",
       "        vertical-align: middle;\n",
       "    }\n",
       "\n",
       "    .dataframe tbody tr th {\n",
       "        vertical-align: top;\n",
       "    }\n",
       "\n",
       "    .dataframe thead th {\n",
       "        text-align: right;\n",
       "    }\n",
       "</style>\n",
       "<table border=\"1\" class=\"dataframe\">\n",
       "  <thead>\n",
       "    <tr style=\"text-align: right;\">\n",
       "      <th></th>\n",
       "      <th>QTR</th>\n",
       "      <th>AC6</th>\n",
       "      <th>AC6.1</th>\n",
       "      <th>AC6.2</th>\n",
       "      <th>AC6.3</th>\n",
       "      <th>AC5</th>\n",
       "      <th>AC5.1</th>\n",
       "      <th>AC6.4</th>\n",
       "      <th>AC6.5</th>\n",
       "      <th>AC6.6</th>\n",
       "      <th>...</th>\n",
       "      <th>AC6.16</th>\n",
       "      <th>AC6.17</th>\n",
       "      <th>AC6.18</th>\n",
       "      <th>AC6.19</th>\n",
       "      <th>AC6.20</th>\n",
       "      <th>AC7.4</th>\n",
       "      <th>AC7.5</th>\n",
       "      <th>AC2.5</th>\n",
       "      <th>AC2.6</th>\n",
       "      <th>Status</th>\n",
       "    </tr>\n",
       "  </thead>\n",
       "  <tbody>\n",
       "    <tr>\n",
       "      <th>0</th>\n",
       "      <td>NaN</td>\n",
       "      <td>V61</td>\n",
       "      <td>V62</td>\n",
       "      <td>V63</td>\n",
       "      <td>V64</td>\n",
       "      <td>V521</td>\n",
       "      <td>V56</td>\n",
       "      <td>V65</td>\n",
       "      <td>V66</td>\n",
       "      <td>V67</td>\n",
       "      <td>...</td>\n",
       "      <td>V621</td>\n",
       "      <td>V619</td>\n",
       "      <td>V614</td>\n",
       "      <td>V615</td>\n",
       "      <td>V613</td>\n",
       "      <td>V75</td>\n",
       "      <td>V76</td>\n",
       "      <td>V24</td>\n",
       "      <td>V21</td>\n",
       "      <td>NaN</td>\n",
       "    </tr>\n",
       "    <tr>\n",
       "      <th>1</th>\n",
       "      <td>NaN</td>\n",
       "      <td>NOTCHECKED</td>\n",
       "      <td>NOTCHECKED</td>\n",
       "      <td>CHECKED</td>\n",
       "      <td>NOTCHECKED</td>\n",
       "      <td>NOTCHECKED</td>\n",
       "      <td>NOTCHECKED</td>\n",
       "      <td>NOTCHECKED</td>\n",
       "      <td>NOTCHECKED</td>\n",
       "      <td>NOTCHECKED</td>\n",
       "      <td>...</td>\n",
       "      <td>NOTCHECKED</td>\n",
       "      <td>NOTCHECKED</td>\n",
       "      <td>NOTCHECKED</td>\n",
       "      <td>NOTCHECKED</td>\n",
       "      <td>CHECKED</td>\n",
       "      <td>NOTCHECKED</td>\n",
       "      <td>CHECKED</td>\n",
       "      <td>CHECKED</td>\n",
       "      <td>NOTCHECKED</td>\n",
       "      <td>NaN</td>\n",
       "    </tr>\n",
       "    <tr>\n",
       "      <th>2</th>\n",
       "      <td>2007Q1</td>\n",
       "      <td>14.83701892</td>\n",
       "      <td>99.39895748</td>\n",
       "      <td>62.94080546</td>\n",
       "      <td>101.764</td>\n",
       "      <td>1.674048473</td>\n",
       "      <td>3.82953486</td>\n",
       "      <td>1.376969231</td>\n",
       "      <td>1.734046154</td>\n",
       "      <td>1.734892308</td>\n",
       "      <td>...</td>\n",
       "      <td>2.882427354</td>\n",
       "      <td>2.574383623</td>\n",
       "      <td>4.151536606</td>\n",
       "      <td>1.851110209</td>\n",
       "      <td>0.293229125</td>\n",
       "      <td>92.44514042</td>\n",
       "      <td>2852.292845</td>\n",
       "      <td>192.4493716</td>\n",
       "      <td>6466.172493</td>\n",
       "      <td>NOTCHECKED</td>\n",
       "    </tr>\n",
       "    <tr>\n",
       "      <th>3</th>\n",
       "      <td>2007Q2</td>\n",
       "      <td>14.90709017</td>\n",
       "      <td>91.33259965</td>\n",
       "      <td>58.44709848</td>\n",
       "      <td>101.1369231</td>\n",
       "      <td>3.004369667</td>\n",
       "      <td>3.82953486</td>\n",
       "      <td>1.400923077</td>\n",
       "      <td>1.547769231</td>\n",
       "      <td>1.698153846</td>\n",
       "      <td>...</td>\n",
       "      <td>2.968603516</td>\n",
       "      <td>2.680464049</td>\n",
       "      <td>4.151519695</td>\n",
       "      <td>1.851584132</td>\n",
       "      <td>0.293911596</td>\n",
       "      <td>91.0359477</td>\n",
       "      <td>2877.140392</td>\n",
       "      <td>202.1334248</td>\n",
       "      <td>6720.868911</td>\n",
       "      <td>NOTCHECKED</td>\n",
       "    </tr>\n",
       "    <tr>\n",
       "      <th>4</th>\n",
       "      <td>2007Q3</td>\n",
       "      <td>23.21522878</td>\n",
       "      <td>117.8079253</td>\n",
       "      <td>87.46058542</td>\n",
       "      <td>98.30738462</td>\n",
       "      <td>2.909346725</td>\n",
       "      <td>3.342410308</td>\n",
       "      <td>2.126230769</td>\n",
       "      <td>1.973061538</td>\n",
       "      <td>2.402969231</td>\n",
       "      <td>...</td>\n",
       "      <td>2.977815816</td>\n",
       "      <td>2.701522102</td>\n",
       "      <td>4.228532862</td>\n",
       "      <td>1.869284404</td>\n",
       "      <td>0.291331291</td>\n",
       "      <td>108.3190147</td>\n",
       "      <td>2668.667999</td>\n",
       "      <td>201.2074925</td>\n",
       "      <td>7548.173885</td>\n",
       "      <td>NOTCHECKED</td>\n",
       "    </tr>\n",
       "  </tbody>\n",
       "</table>\n",
       "<p>5 rows × 78 columns</p>\n",
       "</div>"
      ],
      "text/plain": [
       "      QTR          AC6        AC6.1        AC6.2        AC6.3          AC5  \\\n",
       "0     NaN          V61          V62          V63          V64         V521   \n",
       "1     NaN   NOTCHECKED   NOTCHECKED      CHECKED   NOTCHECKED   NOTCHECKED   \n",
       "2  2007Q1  14.83701892  99.39895748  62.94080546      101.764  1.674048473   \n",
       "3  2007Q2  14.90709017  91.33259965  58.44709848  101.1369231  3.004369667   \n",
       "4  2007Q3  23.21522878  117.8079253  87.46058542  98.30738462  2.909346725   \n",
       "\n",
       "         AC5.1        AC6.4        AC6.5        AC6.6     ...      \\\n",
       "0          V56          V65          V66          V67     ...       \n",
       "1   NOTCHECKED   NOTCHECKED   NOTCHECKED   NOTCHECKED     ...       \n",
       "2   3.82953486  1.376969231  1.734046154  1.734892308     ...       \n",
       "3   3.82953486  1.400923077  1.547769231  1.698153846     ...       \n",
       "4  3.342410308  2.126230769  1.973061538  2.402969231     ...       \n",
       "\n",
       "        AC6.16       AC6.17       AC6.18       AC6.19       AC6.20  \\\n",
       "0         V621         V619         V614         V615         V613   \n",
       "1   NOTCHECKED   NOTCHECKED   NOTCHECKED   NOTCHECKED      CHECKED   \n",
       "2  2.882427354  2.574383623  4.151536606  1.851110209  0.293229125   \n",
       "3  2.968603516  2.680464049  4.151519695  1.851584132  0.293911596   \n",
       "4  2.977815816  2.701522102  4.228532862  1.869284404  0.291331291   \n",
       "\n",
       "         AC7.4        AC7.5        AC2.5        AC2.6      Status  \n",
       "0          V75          V76          V24          V21         NaN  \n",
       "1   NOTCHECKED      CHECKED      CHECKED   NOTCHECKED         NaN  \n",
       "2  92.44514042  2852.292845  192.4493716  6466.172493  NOTCHECKED  \n",
       "3   91.0359477  2877.140392  202.1334248  6720.868911  NOTCHECKED  \n",
       "4  108.3190147  2668.667999  201.2074925  7548.173885  NOTCHECKED  \n",
       "\n",
       "[5 rows x 78 columns]"
      ]
     },
     "execution_count": 4,
     "metadata": {},
     "output_type": "execute_result"
    }
   ],
   "source": [
    "data.head()"
   ]
  },
  {
   "cell_type": "code",
   "execution_count": 5,
   "metadata": {},
   "outputs": [
    {
     "data": {
      "text/plain": [
       "(50, 78)"
      ]
     },
     "execution_count": 5,
     "metadata": {},
     "output_type": "execute_result"
    }
   ],
   "source": [
    "data.shape"
   ]
  },
  {
   "cell_type": "code",
   "execution_count": 6,
   "metadata": {},
   "outputs": [
    {
     "name": "stdout",
     "output_type": "stream",
     "text": [
      "['AC1', 'AC1.1', 'AC1.2', 'AC1.3', 'AC1.4', 'AC2', 'AC2.1', 'AC2.2', 'AC2.3', 'AC2.4', 'AC2.5', 'AC2.6', 'AC3', 'AC3.1', 'AC3.2', 'AC3.3', 'AC3.4', 'AC4', 'AC4.1', 'AC4.2', 'AC4.3', 'AC4.4', 'AC4.5', 'AC5', 'AC5.1', 'AC5.10', 'AC5.11', 'AC5.12', 'AC5.13', 'AC5.14', 'AC5.15', 'AC5.16', 'AC5.17', 'AC5.18', 'AC5.2', 'AC5.3', 'AC5.4', 'AC5.5', 'AC5.6', 'AC5.7', 'AC5.8', 'AC5.9', 'AC6', 'AC6.1', 'AC6.10', 'AC6.11', 'AC6.12', 'AC6.13', 'AC6.14', 'AC6.15', 'AC6.16', 'AC6.17', 'AC6.18', 'AC6.19', 'AC6.2', 'AC6.20', 'AC6.3', 'AC6.4', 'AC6.5', 'AC6.6', 'AC6.7', 'AC6.8', 'AC6.9', 'AC7', 'AC7.1', 'AC7.2', 'AC7.3', 'AC7.4', 'AC7.5', 'AC8', 'AC8.1', 'AC8.2', 'AC8.3', 'AC8.4', 'AC8.5', 'AC8.6']\n"
     ]
    }
   ],
   "source": [
    "col_names = []\n",
    "for i in data.columns:\n",
    "    col_names.append(i)\n",
    "variables = sorted(col_names)[:76]\n",
    "print(variables)"
   ]
  },
  {
   "cell_type": "code",
   "execution_count": 7,
   "metadata": {},
   "outputs": [],
   "source": [
    "# Dictionary storing the data type (Checked or Not-checked)\n",
    "data_type = {}\n",
    "for i in variables:\n",
    "    data_type[i] = data[i][1]"
   ]
  },
  {
   "cell_type": "code",
   "execution_count": 8,
   "metadata": {},
   "outputs": [],
   "source": [
    "# Filters the data for the missing values (for e.g. ' ', NAN, na, n/a)\n",
    "def Isnan(x):\n",
    "    x = np.array(data[x][2:])\n",
    "    x_cleaned = [float(i) for i in x if str(i) != 'nan']\n",
    "    if len(x) == len(x_cleaned):\n",
    "        return(\"No missing values found\")\n",
    "    else:\n",
    "        return(\"missing values found\")"
   ]
  },
  {
   "cell_type": "code",
   "execution_count": 9,
   "metadata": {},
   "outputs": [],
   "source": [
    "# Filters the data for the missing values (for e.g. ' ', NAN, na, n/a)\n",
    "def Cleaner(x):\n",
    "    x = np.array(data[x][2:])\n",
    "    x_cleaned = [float(i) for i in x if str(i) != 'nan']\n",
    "    return x_cleaned"
   ]
  },
  {
   "cell_type": "code",
   "execution_count": 10,
   "metadata": {},
   "outputs": [],
   "source": [
    "# checked & not_checked are list storing checked & not_checked variables respestively\n",
    "checked = []\n",
    "not_checked = []\n",
    "for i in variables:\n",
    "    if data_type[i] == 'CHECKED':\n",
    "        checked.append(i)\n",
    "    else:\n",
    "        not_checked.append(i)"
   ]
  },
  {
   "cell_type": "code",
   "execution_count": 11,
   "metadata": {},
   "outputs": [],
   "source": [
    "not_checked_no_missingvalue = []\n",
    "for i in not_checked:\n",
    "    if Isnan(i) == 'No missing values found':\n",
    "        not_checked_no_missingvalue.append(i)"
   ]
  },
  {
   "cell_type": "code",
   "execution_count": 12,
   "metadata": {},
   "outputs": [
    {
     "data": {
      "text/plain": [
       "(9, 67)"
      ]
     },
     "execution_count": 12,
     "metadata": {},
     "output_type": "execute_result"
    }
   ],
   "source": [
    "len(checked),len(not_checked)"
   ]
  },
  {
   "cell_type": "markdown",
   "metadata": {},
   "source": [
    "## Outlier detection with Local Outlier Factor (LOF)"
   ]
  },
  {
   "cell_type": "markdown",
   "metadata": {},
   "source": [
    "The Local Outlier Factor (LOF) algorithm is an unsupervised anomaly detection method which computes the local density deviation of a given data point with respect to its neighbors. It considers as outliers the samples that have a substantially lower density than their neighbors. This example shows how to use LOF for outlier detection which is the default use case of this estimator in scikit-learn. Note that when LOF is used for outlier detection it has no predict, decision_function and score_samples methods. See User Guide <outlier_detection>: for details on the difference between outlier detection and novelty detection and how to use LOF for novelty detection.\n",
    "\n",
    "The number of neighbors considered (parameter n_neighbors) is typically set 1) greater than the minimum number of samples a cluster has to contain, so that other samples can be local outliers relative to this cluster, and 2) smaller than the maximum number of close by samples that can potentially be local outliers. In practice, such informations are generally not available, and taking n_neighbors=20 appears to work well in general."
   ]
  },
  {
   "cell_type": "code",
   "execution_count": 13,
   "metadata": {},
   "outputs": [],
   "source": [
    "import matplotlib.pyplot as plt\n",
    "from sklearn.neighbors import LocalOutlierFactor"
   ]
  },
  {
   "cell_type": "code",
   "execution_count": 14,
   "metadata": {},
   "outputs": [],
   "source": [
    "def LOF_values(X):\n",
    "    X = Cleaner(str(X))\n",
    "    X = list(zip(X,X))\n",
    "    X = np.array(X)\n",
    "    clf = LocalOutlierFactor(n_neighbors=20, algorithm = 'auto')\n",
    "    y_pred = clf.fit_predict(X)\n",
    "    return(y_pred)"
   ]
  },
  {
   "cell_type": "code",
   "execution_count": 15,
   "metadata": {},
   "outputs": [],
   "source": [
    "# creating as data frame to store the results\n",
    "result_lof = pd.DataFrame(columns = variables)\n",
    "for i in variables:\n",
    "    result_lof[i] = list(np.arange(1,49))\n",
    "result_lof.insert(0, \"QTR\", list(data['QTR'][2:]),True)     \n",
    "\n",
    "# Storing the obtained results in the dataframe:\n",
    "for i in not_checked_no_missingvalue:\n",
    "    result_lof[i] = list(LOF_values(i))\n",
    "\n",
    "# storing the known results:\n",
    "for i in checked:\n",
    "    result_lof[i] = list(np.linspace(1, 1, num=48))"
   ]
  },
  {
   "cell_type": "markdown",
   "metadata": {},
   "source": [
    "## IsolationForest example\n",
    "\n",
    "\n",
    "An example using :class:`sklearn.ensemble.IsolationForest` for anomaly\n",
    "detection.\n",
    "\n",
    "The IsolationForest 'isolates' observations by randomly selecting a feature\n",
    "and then randomly selecting a split value between the maximum and minimum\n",
    "values of the selected feature.\n",
    "\n",
    "Since recursive partitioning can be represented by a tree structure, the\n",
    "number of splittings required to isolate a sample is equivalent to the path\n",
    "length from the root node to the terminating node.\n",
    "\n",
    "This path length, averaged over a forest of such random trees, is a measure\n",
    "of normality and our decision function.\n",
    "\n",
    "Random partitioning produces noticeable shorter paths for anomalies.\n",
    "Hence, when a forest of random trees collectively produce shorter path lengths\n",
    "for particular samples, they are highly likely to be anomalies.\n",
    "\n",
    "\n"
   ]
  },
  {
   "cell_type": "code",
   "execution_count": 16,
   "metadata": {},
   "outputs": [],
   "source": [
    "from sklearn.ensemble import IsolationForest"
   ]
  },
  {
   "cell_type": "code",
   "execution_count": 17,
   "metadata": {},
   "outputs": [],
   "source": [
    "def Isolation_forest(X):\n",
    "    X = Cleaner(str(X))\n",
    "    X = list(zip(X,X))\n",
    "    X = np.array(X)\n",
    "    rng = np.random.RandomState(42)\n",
    "    clf = IsolationForest(behaviour='new', max_samples=100, random_state=rng, contamination='auto')\n",
    "    clf.fit(X)\n",
    "    y_pred = clf.fit_predict(X)\n",
    "    return(y_pred)"
   ]
  },
  {
   "cell_type": "code",
   "execution_count": 18,
   "metadata": {},
   "outputs": [],
   "source": [
    "# creating as data frame to store the results\n",
    "result_if = pd.DataFrame(columns = variables)\n",
    "for i in variables:\n",
    "    result_if[i] = list(np.arange(1,49))\n",
    "result_if.insert(0, \"QTR\", list(data['QTR'][2:]),True)\n",
    "\n",
    "# Storing the obtained results in the dataframe:\n",
    "for i in not_checked_no_missingvalue:\n",
    "    result_if[i] = list(Isolation_forest(i))\n",
    "\n",
    "# storing the known results:\n",
    "for i in checked:\n",
    "    result_if[i] = list(np.linspace(1, 1, num=48))"
   ]
  },
  {
   "cell_type": "markdown",
   "metadata": {},
   "source": [
    "## Outliar based on Quantile"
   ]
  },
  {
   "cell_type": "markdown",
   "metadata": {},
   "source": [
    "This is the simplest, nonparametric outlier detection method in a one dimensional feature space. Here outliers are calculated by means of the IQR (InterQuartile Range).\n",
    "\n",
    "The first and the third quartile ($Q1$, $Q3$) are calculated. An outlier is then a data point $x_i$ that lies outside the interquartile range. That is:\n",
    "\n",
    "$x_i > Q3 + k*IQR$ or $x_i < Q1 - k*IQR$\n",
    "\n",
    "\n",
    "where,\n",
    "$IQR = Q3-Q1$\n",
    "\n",
    "Using the interquartile multiplier value k=1.5, the range limits are the typical upper and lower whiskers of a box plot. "
   ]
  },
  {
   "cell_type": "code",
   "execution_count": 19,
   "metadata": {},
   "outputs": [],
   "source": [
    "def IQR(X, k):\n",
    "    X = Cleaner(str(X))\n",
    "    q1 = np.quantile(X, 0.25)\n",
    "    q3 = np.quantile(X,0.75)\n",
    "    iqr = q3-q1\n",
    "    y_pred = []\n",
    "    for i in X:\n",
    "        if i>q3+k*iqr or i<q1-k*iqr:\n",
    "            y_pred.append(-1)\n",
    "        else:\n",
    "            y_pred.append(1)\n",
    "    return y_pred"
   ]
  },
  {
   "cell_type": "code",
   "execution_count": 20,
   "metadata": {},
   "outputs": [],
   "source": [
    "# creating as data frame to store the results\n",
    "result_iqr = pd.DataFrame(columns = variables)\n",
    "for i in variables:\n",
    "    result_if[i] = list(np.arange(1,49))\n",
    "result_iqr.insert(0, \"QTR\", list(data['QTR'][2:]),True)     \n",
    "\n",
    "# Storing the obtained results in the dataframe:\n",
    "for i in not_checked_no_missingvalue:\n",
    "    result_iqr[i] = list(Isolation_forest(i))\n",
    "\n",
    "# storing the known results:\n",
    "for i in checked:\n",
    "    result_iqr[i] = list(np.linspace(1, 1, num=48))"
   ]
  },
  {
   "cell_type": "markdown",
   "metadata": {},
   "source": [
    "### Find all similar variables(variables of the same class):"
   ]
  },
  {
   "cell_type": "code",
   "execution_count": 35,
   "metadata": {},
   "outputs": [],
   "source": [
    "def find_var(x):\n",
    "    ans =[]\n",
    "    p1 = re.compile(r\"AC\"+str(x)+\".*\") \n",
    "    for i in variables:\n",
    "        if p1.findall(i) != []:\n",
    "            ans.append(p1.findall(i)[0])\n",
    "    return ans"
   ]
  },
  {
   "cell_type": "code",
   "execution_count": 101,
   "metadata": {},
   "outputs": [
    {
     "data": {
      "text/plain": [
       "['AC1', 'AC1.1', 'AC1.2', 'AC1.3', 'AC1.4']"
      ]
     },
     "execution_count": 101,
     "metadata": {},
     "output_type": "execute_result"
    }
   ],
   "source": [
    "find_var(1)"
   ]
  },
  {
   "cell_type": "code",
   "execution_count": 81,
   "metadata": {},
   "outputs": [
    {
     "name": "stdout",
     "output_type": "stream",
     "text": [
      "['AC1', 'AC1.1', 'AC1.2', 'AC1.3', 'AC2', 'AC2.1', 'AC2.2', 'AC2.4', 'AC3.1', 'AC3.2', 'AC3.3', 'AC4.1', 'AC4.2', 'AC4.4', 'AC4.5', 'AC5', 'AC5.1', 'AC5.10', 'AC5.11', 'AC5.12', 'AC5.14', 'AC5.15', 'AC5.16', 'AC5.17', 'AC5.3', 'AC5.5', 'AC5.6', 'AC5.7', 'AC5.8', 'AC6', 'AC6.1', 'AC6.10', 'AC6.11', 'AC6.13', 'AC6.14', 'AC6.15', 'AC6.16', 'AC6.17', 'AC6.18', 'AC6.19', 'AC6.3', 'AC6.4', 'AC6.5', 'AC6.6', 'AC6.7', 'AC6.8', 'AC6.9', 'AC7', 'AC7.1', 'AC7.2', 'AC7.3', 'AC8.2', 'AC8.3', 'AC8.4', 'AC8.5', 'AC8.6']\n"
     ]
    }
   ],
   "source": [
    "not_checked_no_missingvalue.sort()\n",
    "print(not_checked_no_missingvalue)"
   ]
  },
  {
   "cell_type": "code",
   "execution_count": 87,
   "metadata": {},
   "outputs": [],
   "source": [
    "df_sliced = data.loc[2:,find_var(1)[:-1]]\n",
    "corr = df_sliced.cov()"
   ]
  },
  {
   "cell_type": "code",
   "execution_count": 109,
   "metadata": {},
   "outputs": [
    {
     "data": {
      "text/html": [
       "<style  type=\"text/css\" >\n",
       "    #T_31941f98_e72d_11e9_90cc_8b0135d3f066row0_col0 {\n",
       "            background-color:  #b40426;\n",
       "        }    #T_31941f98_e72d_11e9_90cc_8b0135d3f066row0_col1 {\n",
       "            background-color:  #3b4cc0;\n",
       "        }    #T_31941f98_e72d_11e9_90cc_8b0135d3f066row0_col2 {\n",
       "            background-color:  #3b4cc0;\n",
       "        }    #T_31941f98_e72d_11e9_90cc_8b0135d3f066row0_col3 {\n",
       "            background-color:  #3b4cc0;\n",
       "        }    #T_31941f98_e72d_11e9_90cc_8b0135d3f066row1_col0 {\n",
       "            background-color:  #3b4cc0;\n",
       "        }    #T_31941f98_e72d_11e9_90cc_8b0135d3f066row1_col1 {\n",
       "            background-color:  #b40426;\n",
       "        }    #T_31941f98_e72d_11e9_90cc_8b0135d3f066row1_col2 {\n",
       "            background-color:  #f3c8b2;\n",
       "        }    #T_31941f98_e72d_11e9_90cc_8b0135d3f066row1_col3 {\n",
       "            background-color:  #f6a586;\n",
       "        }    #T_31941f98_e72d_11e9_90cc_8b0135d3f066row2_col0 {\n",
       "            background-color:  #485fd1;\n",
       "        }    #T_31941f98_e72d_11e9_90cc_8b0135d3f066row2_col1 {\n",
       "            background-color:  #f5c4ac;\n",
       "        }    #T_31941f98_e72d_11e9_90cc_8b0135d3f066row2_col2 {\n",
       "            background-color:  #b40426;\n",
       "        }    #T_31941f98_e72d_11e9_90cc_8b0135d3f066row2_col3 {\n",
       "            background-color:  #96b7ff;\n",
       "        }    #T_31941f98_e72d_11e9_90cc_8b0135d3f066row3_col0 {\n",
       "            background-color:  #88abfd;\n",
       "        }    #T_31941f98_e72d_11e9_90cc_8b0135d3f066row3_col1 {\n",
       "            background-color:  #f08a6c;\n",
       "        }    #T_31941f98_e72d_11e9_90cc_8b0135d3f066row3_col2 {\n",
       "            background-color:  #c6d6f1;\n",
       "        }    #T_31941f98_e72d_11e9_90cc_8b0135d3f066row3_col3 {\n",
       "            background-color:  #b40426;\n",
       "        }</style>  \n",
       "<table id=\"T_31941f98_e72d_11e9_90cc_8b0135d3f066\" > \n",
       "<thead>    <tr> \n",
       "        <th class=\"blank level0\" ></th> \n",
       "        <th class=\"col_heading level0 col0\" >AC1</th> \n",
       "        <th class=\"col_heading level0 col1\" >AC1.1</th> \n",
       "        <th class=\"col_heading level0 col2\" >AC1.2</th> \n",
       "        <th class=\"col_heading level0 col3\" >AC1.3</th> \n",
       "    </tr></thead> \n",
       "<tbody>    <tr> \n",
       "        <th id=\"T_31941f98_e72d_11e9_90cc_8b0135d3f066level0_row0\" class=\"row_heading level0 row0\" >AC1</th> \n",
       "        <td id=\"T_31941f98_e72d_11e9_90cc_8b0135d3f066row0_col0\" class=\"data row0 col0\" >1</td> \n",
       "        <td id=\"T_31941f98_e72d_11e9_90cc_8b0135d3f066row0_col1\" class=\"data row0 col1\" >-0.340944</td> \n",
       "        <td id=\"T_31941f98_e72d_11e9_90cc_8b0135d3f066row0_col2\" class=\"data row0 col2\" >-0.279</td> \n",
       "        <td id=\"T_31941f98_e72d_11e9_90cc_8b0135d3f066row0_col3\" class=\"data row0 col3\" >-0.0235917</td> \n",
       "    </tr>    <tr> \n",
       "        <th id=\"T_31941f98_e72d_11e9_90cc_8b0135d3f066level0_row1\" class=\"row_heading level0 row1\" >AC1.1</th> \n",
       "        <td id=\"T_31941f98_e72d_11e9_90cc_8b0135d3f066row1_col0\" class=\"data row1 col0\" >-0.340944</td> \n",
       "        <td id=\"T_31941f98_e72d_11e9_90cc_8b0135d3f066row1_col1\" class=\"data row1 col1\" >1</td> \n",
       "        <td id=\"T_31941f98_e72d_11e9_90cc_8b0135d3f066row1_col2\" class=\"data row1 col2\" >0.501711</td> \n",
       "        <td id=\"T_31941f98_e72d_11e9_90cc_8b0135d3f066row1_col3\" class=\"data row1 col3\" >0.71215</td> \n",
       "    </tr>    <tr> \n",
       "        <th id=\"T_31941f98_e72d_11e9_90cc_8b0135d3f066level0_row2\" class=\"row_heading level0 row2\" >AC1.2</th> \n",
       "        <td id=\"T_31941f98_e72d_11e9_90cc_8b0135d3f066row2_col0\" class=\"data row2 col0\" >-0.279</td> \n",
       "        <td id=\"T_31941f98_e72d_11e9_90cc_8b0135d3f066row2_col1\" class=\"data row2 col1\" >0.501711</td> \n",
       "        <td id=\"T_31941f98_e72d_11e9_90cc_8b0135d3f066row2_col2\" class=\"data row2 col2\" >1</td> \n",
       "        <td id=\"T_31941f98_e72d_11e9_90cc_8b0135d3f066row2_col3\" class=\"data row2 col3\" >0.256347</td> \n",
       "    </tr>    <tr> \n",
       "        <th id=\"T_31941f98_e72d_11e9_90cc_8b0135d3f066level0_row3\" class=\"row_heading level0 row3\" >AC1.3</th> \n",
       "        <td id=\"T_31941f98_e72d_11e9_90cc_8b0135d3f066row3_col0\" class=\"data row3 col0\" >-0.0235917</td> \n",
       "        <td id=\"T_31941f98_e72d_11e9_90cc_8b0135d3f066row3_col1\" class=\"data row3 col1\" >0.71215</td> \n",
       "        <td id=\"T_31941f98_e72d_11e9_90cc_8b0135d3f066row3_col2\" class=\"data row3 col2\" >0.256347</td> \n",
       "        <td id=\"T_31941f98_e72d_11e9_90cc_8b0135d3f066row3_col3\" class=\"data row3 col3\" >1</td> \n",
       "    </tr></tbody> \n",
       "</table> "
      ],
      "text/plain": [
       "<pandas.io.formats.style.Styler at 0x7feafaa757f0>"
      ]
     },
     "execution_count": 109,
     "metadata": {},
     "output_type": "execute_result"
    }
   ],
   "source": [
    "df = pd.DataFrame(df_sliced)\n",
    "corr = df_sliced.astype('float64').corr()\n",
    "# To find the covariance  \n",
    "corr\n",
    "corr.style.background_gradient(cmap='coolwarm')"
   ]
  },
  {
   "cell_type": "code",
   "execution_count": null,
   "metadata": {},
   "outputs": [],
   "source": []
  }
 ],
 "metadata": {
  "kernelspec": {
   "display_name": "Python 3",
   "language": "python",
   "name": "python3"
  },
  "language_info": {
   "codemirror_mode": {
    "name": "ipython",
    "version": 3
   },
   "file_extension": ".py",
   "mimetype": "text/x-python",
   "name": "python",
   "nbconvert_exporter": "python",
   "pygments_lexer": "ipython3",
   "version": "3.6.8"
  }
 },
 "nbformat": 4,
 "nbformat_minor": 2
}
