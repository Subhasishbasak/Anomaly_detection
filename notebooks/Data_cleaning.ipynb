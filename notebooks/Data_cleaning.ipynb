{
 "cells": [
  {
   "cell_type": "markdown",
   "metadata": {},
   "source": [
    "## Credit Suisse"
   ]
  },
  {
   "cell_type": "code",
   "execution_count": 1,
   "metadata": {},
   "outputs": [],
   "source": [
    "import pandas as pd\n",
    "import numpy as np\n",
    "import warnings\n",
    "warnings.filterwarnings(\"ignore\")"
   ]
  },
  {
   "cell_type": "code",
   "execution_count": 2,
   "metadata": {},
   "outputs": [],
   "source": [
    "missing_values = [\"n/a\", \"na\", \"--\", ' ', \"NAN\"]\n",
    "data = pd.read_csv(\"../resources/Data.csv\", na_values = missing_values)"
   ]
  },
  {
   "cell_type": "code",
   "execution_count": 3,
   "metadata": {},
   "outputs": [
    {
     "data": {
      "text/html": [
       "<div>\n",
       "<style scoped>\n",
       "    .dataframe tbody tr th:only-of-type {\n",
       "        vertical-align: middle;\n",
       "    }\n",
       "\n",
       "    .dataframe tbody tr th {\n",
       "        vertical-align: top;\n",
       "    }\n",
       "\n",
       "    .dataframe thead th {\n",
       "        text-align: right;\n",
       "    }\n",
       "</style>\n",
       "<table border=\"1\" class=\"dataframe\">\n",
       "  <thead>\n",
       "    <tr style=\"text-align: right;\">\n",
       "      <th></th>\n",
       "      <th>QTR</th>\n",
       "      <th>AC6</th>\n",
       "      <th>AC6.1</th>\n",
       "      <th>AC6.2</th>\n",
       "      <th>AC6.3</th>\n",
       "      <th>AC5</th>\n",
       "      <th>AC5.1</th>\n",
       "      <th>AC6.4</th>\n",
       "      <th>AC6.5</th>\n",
       "      <th>AC6.6</th>\n",
       "      <th>...</th>\n",
       "      <th>AC6.16</th>\n",
       "      <th>AC6.17</th>\n",
       "      <th>AC6.18</th>\n",
       "      <th>AC6.19</th>\n",
       "      <th>AC6.20</th>\n",
       "      <th>AC7.4</th>\n",
       "      <th>AC7.5</th>\n",
       "      <th>AC2.5</th>\n",
       "      <th>AC2.6</th>\n",
       "      <th>Status</th>\n",
       "    </tr>\n",
       "  </thead>\n",
       "  <tbody>\n",
       "    <tr>\n",
       "      <th>0</th>\n",
       "      <td>NaN</td>\n",
       "      <td>V61</td>\n",
       "      <td>V62</td>\n",
       "      <td>V63</td>\n",
       "      <td>V64</td>\n",
       "      <td>V521</td>\n",
       "      <td>V56</td>\n",
       "      <td>V65</td>\n",
       "      <td>V66</td>\n",
       "      <td>V67</td>\n",
       "      <td>...</td>\n",
       "      <td>V621</td>\n",
       "      <td>V619</td>\n",
       "      <td>V614</td>\n",
       "      <td>V615</td>\n",
       "      <td>V613</td>\n",
       "      <td>V75</td>\n",
       "      <td>V76</td>\n",
       "      <td>V24</td>\n",
       "      <td>V21</td>\n",
       "      <td>NaN</td>\n",
       "    </tr>\n",
       "    <tr>\n",
       "      <th>1</th>\n",
       "      <td>NaN</td>\n",
       "      <td>NOTCHECKED</td>\n",
       "      <td>NOTCHECKED</td>\n",
       "      <td>CHECKED</td>\n",
       "      <td>NOTCHECKED</td>\n",
       "      <td>NOTCHECKED</td>\n",
       "      <td>NOTCHECKED</td>\n",
       "      <td>NOTCHECKED</td>\n",
       "      <td>NOTCHECKED</td>\n",
       "      <td>NOTCHECKED</td>\n",
       "      <td>...</td>\n",
       "      <td>NOTCHECKED</td>\n",
       "      <td>NOTCHECKED</td>\n",
       "      <td>NOTCHECKED</td>\n",
       "      <td>NOTCHECKED</td>\n",
       "      <td>CHECKED</td>\n",
       "      <td>NOTCHECKED</td>\n",
       "      <td>CHECKED</td>\n",
       "      <td>CHECKED</td>\n",
       "      <td>NOTCHECKED</td>\n",
       "      <td>NaN</td>\n",
       "    </tr>\n",
       "    <tr>\n",
       "      <th>2</th>\n",
       "      <td>2007Q1</td>\n",
       "      <td>14.83701892</td>\n",
       "      <td>99.39895748</td>\n",
       "      <td>62.94080546</td>\n",
       "      <td>101.764</td>\n",
       "      <td>1.674048473</td>\n",
       "      <td>3.82953486</td>\n",
       "      <td>1.376969231</td>\n",
       "      <td>1.734046154</td>\n",
       "      <td>1.734892308</td>\n",
       "      <td>...</td>\n",
       "      <td>2.882427354</td>\n",
       "      <td>2.574383623</td>\n",
       "      <td>4.151536606</td>\n",
       "      <td>1.851110209</td>\n",
       "      <td>0.293229125</td>\n",
       "      <td>92.44514042</td>\n",
       "      <td>2852.292845</td>\n",
       "      <td>192.4493716</td>\n",
       "      <td>6466.172493</td>\n",
       "      <td>NOTCHECKED</td>\n",
       "    </tr>\n",
       "    <tr>\n",
       "      <th>3</th>\n",
       "      <td>2007Q2</td>\n",
       "      <td>14.90709017</td>\n",
       "      <td>91.33259965</td>\n",
       "      <td>58.44709848</td>\n",
       "      <td>101.1369231</td>\n",
       "      <td>3.004369667</td>\n",
       "      <td>3.82953486</td>\n",
       "      <td>1.400923077</td>\n",
       "      <td>1.547769231</td>\n",
       "      <td>1.698153846</td>\n",
       "      <td>...</td>\n",
       "      <td>2.968603516</td>\n",
       "      <td>2.680464049</td>\n",
       "      <td>4.151519695</td>\n",
       "      <td>1.851584132</td>\n",
       "      <td>0.293911596</td>\n",
       "      <td>91.0359477</td>\n",
       "      <td>2877.140392</td>\n",
       "      <td>202.1334248</td>\n",
       "      <td>6720.868911</td>\n",
       "      <td>NOTCHECKED</td>\n",
       "    </tr>\n",
       "    <tr>\n",
       "      <th>4</th>\n",
       "      <td>2007Q3</td>\n",
       "      <td>23.21522878</td>\n",
       "      <td>117.8079253</td>\n",
       "      <td>87.46058542</td>\n",
       "      <td>98.30738462</td>\n",
       "      <td>2.909346725</td>\n",
       "      <td>3.342410308</td>\n",
       "      <td>2.126230769</td>\n",
       "      <td>1.973061538</td>\n",
       "      <td>2.402969231</td>\n",
       "      <td>...</td>\n",
       "      <td>2.977815816</td>\n",
       "      <td>2.701522102</td>\n",
       "      <td>4.228532862</td>\n",
       "      <td>1.869284404</td>\n",
       "      <td>0.291331291</td>\n",
       "      <td>108.3190147</td>\n",
       "      <td>2668.667999</td>\n",
       "      <td>201.2074925</td>\n",
       "      <td>7548.173885</td>\n",
       "      <td>NOTCHECKED</td>\n",
       "    </tr>\n",
       "  </tbody>\n",
       "</table>\n",
       "<p>5 rows × 78 columns</p>\n",
       "</div>"
      ],
      "text/plain": [
       "      QTR          AC6        AC6.1        AC6.2        AC6.3          AC5  \\\n",
       "0     NaN          V61          V62          V63          V64         V521   \n",
       "1     NaN   NOTCHECKED   NOTCHECKED      CHECKED   NOTCHECKED   NOTCHECKED   \n",
       "2  2007Q1  14.83701892  99.39895748  62.94080546      101.764  1.674048473   \n",
       "3  2007Q2  14.90709017  91.33259965  58.44709848  101.1369231  3.004369667   \n",
       "4  2007Q3  23.21522878  117.8079253  87.46058542  98.30738462  2.909346725   \n",
       "\n",
       "         AC5.1        AC6.4        AC6.5        AC6.6     ...      \\\n",
       "0          V56          V65          V66          V67     ...       \n",
       "1   NOTCHECKED   NOTCHECKED   NOTCHECKED   NOTCHECKED     ...       \n",
       "2   3.82953486  1.376969231  1.734046154  1.734892308     ...       \n",
       "3   3.82953486  1.400923077  1.547769231  1.698153846     ...       \n",
       "4  3.342410308  2.126230769  1.973061538  2.402969231     ...       \n",
       "\n",
       "        AC6.16       AC6.17       AC6.18       AC6.19       AC6.20  \\\n",
       "0         V621         V619         V614         V615         V613   \n",
       "1   NOTCHECKED   NOTCHECKED   NOTCHECKED   NOTCHECKED      CHECKED   \n",
       "2  2.882427354  2.574383623  4.151536606  1.851110209  0.293229125   \n",
       "3  2.968603516  2.680464049  4.151519695  1.851584132  0.293911596   \n",
       "4  2.977815816  2.701522102  4.228532862  1.869284404  0.291331291   \n",
       "\n",
       "         AC7.4        AC7.5        AC2.5        AC2.6      Status  \n",
       "0          V75          V76          V24          V21         NaN  \n",
       "1   NOTCHECKED      CHECKED      CHECKED   NOTCHECKED         NaN  \n",
       "2  92.44514042  2852.292845  192.4493716  6466.172493  NOTCHECKED  \n",
       "3   91.0359477  2877.140392  202.1334248  6720.868911  NOTCHECKED  \n",
       "4  108.3190147  2668.667999  201.2074925  7548.173885  NOTCHECKED  \n",
       "\n",
       "[5 rows x 78 columns]"
      ]
     },
     "execution_count": 3,
     "metadata": {},
     "output_type": "execute_result"
    }
   ],
   "source": [
    "data.head()"
   ]
  },
  {
   "cell_type": "code",
   "execution_count": 4,
   "metadata": {},
   "outputs": [
    {
     "data": {
      "text/plain": [
       "(50, 78)"
      ]
     },
     "execution_count": 4,
     "metadata": {},
     "output_type": "execute_result"
    }
   ],
   "source": [
    "data.shape"
   ]
  },
  {
   "cell_type": "code",
   "execution_count": 5,
   "metadata": {},
   "outputs": [
    {
     "name": "stdout",
     "output_type": "stream",
     "text": [
      "['AC1', 'AC1.1', 'AC1.2', 'AC1.3', 'AC1.4', 'AC2', 'AC2.1', 'AC2.2', 'AC2.3', 'AC2.4', 'AC2.5', 'AC2.6', 'AC3', 'AC3.1', 'AC3.2', 'AC3.3', 'AC3.4', 'AC4', 'AC4.1', 'AC4.2', 'AC4.3', 'AC4.4', 'AC4.5', 'AC5', 'AC5.1', 'AC5.10', 'AC5.11', 'AC5.12', 'AC5.13', 'AC5.14', 'AC5.15', 'AC5.16', 'AC5.17', 'AC5.18', 'AC5.2', 'AC5.3', 'AC5.4', 'AC5.5', 'AC5.6', 'AC5.7', 'AC5.8', 'AC5.9', 'AC6', 'AC6.1', 'AC6.10', 'AC6.11', 'AC6.12', 'AC6.13', 'AC6.14', 'AC6.15', 'AC6.16', 'AC6.17', 'AC6.18', 'AC6.19', 'AC6.2', 'AC6.20', 'AC6.3', 'AC6.4', 'AC6.5', 'AC6.6', 'AC6.7', 'AC6.8', 'AC6.9', 'AC7', 'AC7.1', 'AC7.2', 'AC7.3', 'AC7.4', 'AC7.5', 'AC8', 'AC8.1', 'AC8.2', 'AC8.3', 'AC8.4', 'AC8.5', 'AC8.6']\n"
     ]
    }
   ],
   "source": [
    "col_names = []\n",
    "for i in data.columns:\n",
    "    col_names.append(i)\n",
    "variables = sorted(col_names)[:76]\n",
    "print(variables)"
   ]
  },
  {
   "cell_type": "code",
   "execution_count": 6,
   "metadata": {},
   "outputs": [],
   "source": [
    "# Dictionary storing the data type (Checked or Not-checked)\n",
    "data_type = {}\n",
    "for i in variables:\n",
    "    data_type[i] = data[i][1]"
   ]
  },
  {
   "cell_type": "code",
   "execution_count": 7,
   "metadata": {},
   "outputs": [],
   "source": [
    "# Filters the data for the missing values (for e.g. ' ', NAN, na, n/a)\n",
    "def Isnan(x):\n",
    "    x = np.array(data[x][2:])\n",
    "    x_cleaned = [float(i) for i in x if str(i) != 'nan']\n",
    "    if len(x) == len(x_cleaned):\n",
    "        return(\"No missing values found\")\n",
    "    else:\n",
    "        return(\"missing values found\")"
   ]
  },
  {
   "cell_type": "code",
   "execution_count": 8,
   "metadata": {},
   "outputs": [],
   "source": [
    "# Filters the data for the missing values (for e.g. ' ', NAN, na, n/a)\n",
    "def Cleaner(x):\n",
    "    x = np.array(data[x][2:])\n",
    "    x_cleaned = [float(i) for i in x if str(i) != 'nan']\n",
    "    return x_cleaned"
   ]
  },
  {
   "cell_type": "code",
   "execution_count": 9,
   "metadata": {},
   "outputs": [],
   "source": [
    "# checked & not_checked are list storing checked & not_checked variables respestively\n",
    "checked = []\n",
    "not_checked = []\n",
    "for i in variables:\n",
    "    if data_type[i] == 'CHECKED':\n",
    "        checked.append(i)\n",
    "    else:\n",
    "        not_checked.append(i)"
   ]
  },
  {
   "cell_type": "code",
   "execution_count": 10,
   "metadata": {},
   "outputs": [],
   "source": [
    "not_checked_no_missingvalue = []\n",
    "for i in not_checked:\n",
    "    if Isnan(i) == 'No missing values found':\n",
    "        not_checked_no_missingvalue.append(i)"
   ]
  },
  {
   "cell_type": "code",
   "execution_count": 11,
   "metadata": {},
   "outputs": [
    {
     "data": {
      "text/plain": [
       "(9, 67)"
      ]
     },
     "execution_count": 11,
     "metadata": {},
     "output_type": "execute_result"
    }
   ],
   "source": [
    "len(checked),len(not_checked)"
   ]
  },
  {
   "cell_type": "code",
   "execution_count": 12,
   "metadata": {},
   "outputs": [],
   "source": [
    "result = pd.DataFrame(columns = variables)\n",
    "for i in variables:\n",
    "    result[i] = list(np.arange(1,49))\n",
    "result.insert(0, \"QTR\", list(data['QTR'][2:]),True)     "
   ]
  },
  {
   "cell_type": "markdown",
   "metadata": {},
   "source": [
    "## Outlier detection with Local Outlier Factor (LOF)"
   ]
  },
  {
   "cell_type": "markdown",
   "metadata": {},
   "source": [
    "The Local Outlier Factor (LOF) algorithm is an unsupervised anomaly detection method which computes the local density deviation of a given data point with respect to its neighbors. It considers as outliers the samples that have a substantially lower density than their neighbors. This example shows how to use LOF for outlier detection which is the default use case of this estimator in scikit-learn. Note that when LOF is used for outlier detection it has no predict, decision_function and score_samples methods. See User Guide <outlier_detection>: for details on the difference between outlier detection and novelty detection and how to use LOF for novelty detection.\n",
    "\n",
    "The number of neighbors considered (parameter n_neighbors) is typically set 1) greater than the minimum number of samples a cluster has to contain, so that other samples can be local outliers relative to this cluster, and 2) smaller than the maximum number of close by samples that can potentially be local outliers. In practice, such informations are generally not available, and taking n_neighbors=20 appears to work well in general."
   ]
  },
  {
   "cell_type": "code",
   "execution_count": 13,
   "metadata": {},
   "outputs": [],
   "source": [
    "import matplotlib.pyplot as plt\n",
    "from sklearn.neighbors import LocalOutlierFactor"
   ]
  },
  {
   "cell_type": "code",
   "execution_count": 14,
   "metadata": {},
   "outputs": [],
   "source": [
    "def LOF_values(X):\n",
    "    X = Cleaner(str(X))\n",
    "    X = list(zip(X,X))\n",
    "    X = np.array(X)\n",
    "    clf = LocalOutlierFactor(n_neighbors=20, algorithm = 'auto')\n",
    "    y_pred = clf.fit_predict(X)\n",
    "    return(y_pred)"
   ]
  },
  {
   "cell_type": "code",
   "execution_count": 15,
   "metadata": {},
   "outputs": [],
   "source": [
    "# Storing the results in results:\n",
    "for i in not_checked_no_missingvalue:\n",
    "    result[i] = list(LOF_values(i))"
   ]
  },
  {
   "cell_type": "code",
   "execution_count": 16,
   "metadata": {},
   "outputs": [],
   "source": [
    "for i in checked:\n",
    "    result[i] = list(np.linspace(1, 1, num=48))"
   ]
  },
  {
   "cell_type": "code",
<<<<<<< HEAD
   "execution_count": 40,
=======
   "execution_count": 17,
>>>>>>> 741842a86ace0fcff9b88ba73f8548dd5e5b40af
   "metadata": {},
   "outputs": [
    {
     "data": {
      "text/html": [
       "<div>\n",
       "<style scoped>\n",
       "    .dataframe tbody tr th:only-of-type {\n",
       "        vertical-align: middle;\n",
       "    }\n",
       "\n",
       "    .dataframe tbody tr th {\n",
       "        vertical-align: top;\n",
       "    }\n",
       "\n",
       "    .dataframe thead th {\n",
       "        text-align: right;\n",
       "    }\n",
       "</style>\n",
       "<table border=\"1\" class=\"dataframe\">\n",
       "  <thead>\n",
       "    <tr style=\"text-align: right;\">\n",
       "      <th></th>\n",
       "      <th>QTR</th>\n",
       "      <th>AC1</th>\n",
       "      <th>AC1.1</th>\n",
       "      <th>AC1.2</th>\n",
       "      <th>AC1.3</th>\n",
       "      <th>AC1.4</th>\n",
       "      <th>AC2</th>\n",
       "      <th>AC2.1</th>\n",
       "      <th>AC2.2</th>\n",
       "      <th>AC2.3</th>\n",
       "      <th>...</th>\n",
       "      <th>AC7.3</th>\n",
       "      <th>AC7.4</th>\n",
       "      <th>AC7.5</th>\n",
       "      <th>AC8</th>\n",
       "      <th>AC8.1</th>\n",
       "      <th>AC8.2</th>\n",
       "      <th>AC8.3</th>\n",
       "      <th>AC8.4</th>\n",
       "      <th>AC8.5</th>\n",
       "      <th>AC8.6</th>\n",
       "    </tr>\n",
       "  </thead>\n",
       "  <tbody>\n",
       "    <tr>\n",
       "      <th>0</th>\n",
       "      <td>2007Q1</td>\n",
       "      <td>1</td>\n",
       "      <td>1</td>\n",
       "      <td>1</td>\n",
       "      <td>1</td>\n",
       "      <td>1</td>\n",
       "      <td>-1</td>\n",
       "      <td>1</td>\n",
       "      <td>1</td>\n",
       "      <td>1</td>\n",
       "      <td>...</td>\n",
       "      <td>1</td>\n",
       "      <td>1</td>\n",
       "      <td>1.0</td>\n",
       "      <td>1.0</td>\n",
       "      <td>1</td>\n",
       "      <td>1</td>\n",
       "      <td>1</td>\n",
       "      <td>1</td>\n",
       "      <td>1</td>\n",
       "      <td>1</td>\n",
       "    </tr>\n",
       "    <tr>\n",
       "      <th>1</th>\n",
       "      <td>2007Q2</td>\n",
       "      <td>1</td>\n",
       "      <td>1</td>\n",
       "      <td>1</td>\n",
       "      <td>1</td>\n",
       "      <td>2</td>\n",
       "      <td>-1</td>\n",
       "      <td>1</td>\n",
       "      <td>1</td>\n",
       "      <td>2</td>\n",
       "      <td>...</td>\n",
       "      <td>1</td>\n",
       "      <td>2</td>\n",
       "      <td>1.0</td>\n",
       "      <td>1.0</td>\n",
       "      <td>2</td>\n",
       "      <td>1</td>\n",
       "      <td>1</td>\n",
       "      <td>1</td>\n",
       "      <td>1</td>\n",
       "      <td>1</td>\n",
       "    </tr>\n",
       "    <tr>\n",
       "      <th>2</th>\n",
       "      <td>2007Q3</td>\n",
       "      <td>1</td>\n",
       "      <td>1</td>\n",
       "      <td>1</td>\n",
       "      <td>1</td>\n",
       "      <td>3</td>\n",
       "      <td>-1</td>\n",
       "      <td>1</td>\n",
       "      <td>1</td>\n",
       "      <td>3</td>\n",
       "      <td>...</td>\n",
       "      <td>1</td>\n",
       "      <td>3</td>\n",
       "      <td>1.0</td>\n",
       "      <td>1.0</td>\n",
       "      <td>3</td>\n",
       "      <td>1</td>\n",
       "      <td>1</td>\n",
       "      <td>1</td>\n",
       "      <td>1</td>\n",
       "      <td>1</td>\n",
       "    </tr>\n",
       "    <tr>\n",
       "      <th>3</th>\n",
       "      <td>2007Q4</td>\n",
       "      <td>1</td>\n",
       "      <td>1</td>\n",
       "      <td>1</td>\n",
       "      <td>1</td>\n",
       "      <td>4</td>\n",
       "      <td>-1</td>\n",
       "      <td>1</td>\n",
       "      <td>1</td>\n",
       "      <td>4</td>\n",
       "      <td>...</td>\n",
       "      <td>1</td>\n",
       "      <td>4</td>\n",
       "      <td>1.0</td>\n",
       "      <td>1.0</td>\n",
       "      <td>4</td>\n",
       "      <td>1</td>\n",
       "      <td>1</td>\n",
       "      <td>-1</td>\n",
       "      <td>1</td>\n",
       "      <td>1</td>\n",
       "    </tr>\n",
       "    <tr>\n",
       "      <th>4</th>\n",
       "      <td>2008Q1</td>\n",
       "      <td>1</td>\n",
       "      <td>1</td>\n",
       "      <td>1</td>\n",
       "      <td>1</td>\n",
       "      <td>5</td>\n",
       "      <td>1</td>\n",
       "      <td>1</td>\n",
       "      <td>1</td>\n",
       "      <td>5</td>\n",
       "      <td>...</td>\n",
       "      <td>1</td>\n",
       "      <td>5</td>\n",
       "      <td>1.0</td>\n",
       "      <td>1.0</td>\n",
       "      <td>5</td>\n",
       "      <td>1</td>\n",
       "      <td>-1</td>\n",
       "      <td>-1</td>\n",
       "      <td>-1</td>\n",
       "      <td>1</td>\n",
       "    </tr>\n",
       "  </tbody>\n",
       "</table>\n",
       "<p>5 rows × 77 columns</p>\n",
       "</div>"
      ],
      "text/plain": [
<<<<<<< HEAD
       "      QTR  AC1  AC1.1  AC1.2  AC1.3  AC1.4  AC2  AC2.1  AC2.2  AC2.3  ...  \\\n",
       "0  2007Q1    1      1      1      1      1   -1      1      1      1  ...   \n",
       "1  2007Q2    1      1      1      1      2   -1      1      1      2  ...   \n",
       "2  2007Q3    1      1      1      1      3   -1      1      1      3  ...   \n",
       "3  2007Q4    1      1      1      1      4   -1      1      1      4  ...   \n",
       "4  2008Q1    1      1      1      1      5    1      1      1      5  ...   \n",
=======
       "       QTR  AC1  AC1.1  AC1.2  AC1.3  AC1.4  AC2  AC2.1  AC2.2  AC2.3  ...    \\\n",
       "0   2007Q1    1      1      1      1      1   -1      1      1      1  ...     \n",
       "1   2007Q2    1      1      1      1      2   -1      1      1      2  ...     \n",
       "2   2007Q3    1      1      1      1      3   -1      1      1      3  ...     \n",
       "3   2007Q4    1      1      1      1      4   -1      1      1      4  ...     \n",
       "4   2008Q1    1      1      1      1      5    1      1      1      5  ...     \n",
       "5   2008Q2    1      1     -1      1      6    1      1      1      6  ...     \n",
       "6   2008Q3    1      1     -1      1      7    1      1      1      7  ...     \n",
       "7   2008Q4    1     -1      1      1      8    1     -1     -1      8  ...     \n",
       "8   2009Q1    1     -1      1      1      9    1     -1     -1      9  ...     \n",
       "9   2009Q2    1      1      1      1     10    1     -1     -1     10  ...     \n",
       "10  2009Q3    1      1      1      1     11    1      1     -1     11  ...     \n",
       "11  2009Q4    1      1      1      1     12    1      1      1     12  ...     \n",
       "12  2010Q1    1      1      1      1     13    1      1      1     13  ...     \n",
       "13  2010Q2    1      1      1      1     14    1      1      1     14  ...     \n",
       "14  2010Q3    1      1      1      1     15    1      1      1     15  ...     \n",
       "15  2010Q4    1      1      1     -1     16    1      1      1     16  ...     \n",
       "16  2011Q1    1     -1      1     -1     17    1      1      1     17  ...     \n",
       "17  2011Q2    1     -1      1     -1     18    1      1      1     18  ...     \n",
       "18  2011Q3    1     -1      1     -1     19    1      1      1     19  ...     \n",
       "19  2011Q4    1      1      1     -1     20    1      1      1     20  ...     \n",
       "20  2012Q1    1      1      1      1     21    1      1      1     21  ...     \n",
       "21  2012Q2    1      1      1      1     22   -1      1      1     22  ...     \n",
       "22  2012Q3    1      1     -1      1     23    1      1      1     23  ...     \n",
       "23  2012Q4    1      1     -1      1     24    1      1      1     24  ...     \n",
       "24  2013Q1    1      1     -1      1     25    1      1      1     25  ...     \n",
       "25  2013Q2    1      1      1      1     26    1      1      1     26  ...     \n",
       "26  2013Q3    1      1      1      1     27    1      1      1     27  ...     \n",
       "27  2013Q4    1      1      1      1     28    1      1      1     28  ...     \n",
       "28  2014Q1    1      1      1      1     29    1      1      1     29  ...     \n",
       "29  2014Q2    1      1      1      1     30    1      1      1     30  ...     \n",
       "30  2014Q3    1      1      1      1     31    1      1      1     31  ...     \n",
       "31  2014Q4    1      1      1      1     32    1      1      1     32  ...     \n",
       "32  2015Q1    1      1      1      1     33    1      1      1     33  ...     \n",
       "33  2015Q2    1      1      1      1     34    1      1      1     34  ...     \n",
       "34  2015Q3    1      1      1      1     35    1      1      1     35  ...     \n",
       "35  2015Q4    1      1      1      1     36    1      1      1     36  ...     \n",
       "36  2016Q1   -1      1      1      1     37    1      1      1     37  ...     \n",
       "37  2016Q2   -1      1      1      1     38    1      1      1     38  ...     \n",
       "38  2016Q3   -1      1      1      1     39    1      1      1     39  ...     \n",
       "39  2016Q4   -1      1      1      1     40    1      1      1     40  ...     \n",
       "40  2017Q1   -1      1      1      1     41    1      1      1     41  ...     \n",
       "41  2017Q2    1      1      1      1     42    1      1      1     42  ...     \n",
       "42  2017Q3    1      1      1      1     43    1      1      1     43  ...     \n",
       "43  2017Q4    1      1      1      1     44    1      1      1     44  ...     \n",
       "44  2018Q1    1      1      1      1     45    1      1      1     45  ...     \n",
       "45  2018Q2    1      1      1      1     46    1     -1      1     46  ...     \n",
       "46  2018Q3    1      1      1      1     47    1     -1     -1     47  ...     \n",
       "47  2018Q4    1      1      1      1     48    1      1      1     48  ...     \n",
>>>>>>> 741842a86ace0fcff9b88ba73f8548dd5e5b40af
       "\n",
       "   AC7.3  AC7.4  AC7.5  AC8  AC8.1  AC8.2  AC8.3  AC8.4  AC8.5  AC8.6  \n",
       "0      1      1    1.0  1.0      1      1      1      1      1      1  \n",
       "1      1      2    1.0  1.0      2      1      1      1      1      1  \n",
       "2      1      3    1.0  1.0      3      1      1      1      1      1  \n",
       "3      1      4    1.0  1.0      4      1      1     -1      1      1  \n",
       "4      1      5    1.0  1.0      5      1     -1     -1     -1      1  \n",
       "\n",
       "[5 rows x 77 columns]"
      ]
     },
     "execution_count": 40,
     "metadata": {},
     "output_type": "execute_result"
    }
   ],
   "source": [
    "result.head() "
   ]
  },
  {
   "cell_type": "code",
   "execution_count": 42,
   "metadata": {},
   "outputs": [],
   "source": [
    "col_with_missing_values = []\n",
    "for i in variables:\n",
    "    if Isnan(i) == 'missing values found':\n",
    "        col_with_missing_values.append(i)"
   ]
  },
  {
   "cell_type": "code",
   "execution_count": 43,
   "metadata": {},
   "outputs": [
    {
     "data": {
      "text/plain": [
       "['AC1.4',\n",
       " 'AC2.3',\n",
       " 'AC2.6',\n",
       " 'AC3',\n",
       " 'AC4.3',\n",
       " 'AC5.13',\n",
       " 'AC5.18',\n",
       " 'AC5.9',\n",
       " 'AC6.12',\n",
       " 'AC7.4',\n",
       " 'AC8.1']"
      ]
     },
     "execution_count": 43,
     "metadata": {},
     "output_type": "execute_result"
    }
   ],
   "source": [
    "col_with_missing_values"
   ]
  },
  {
   "cell_type": "code",
   "execution_count": 78,
   "metadata": {},
   "outputs": [],
   "source": [
    "copy1 = [float(i) for i in data['AC1.4'][2:]]\n",
    "copy2 = [float(i) for i in data['AC2.3'][2:]]"
   ]
  },
  {
   "cell_type": "code",
   "execution_count": 79,
   "metadata": {},
   "outputs": [
    {
     "name": "stdout",
     "output_type": "stream",
     "text": [
      "[[40478.43432  47271.94657  30197.10734  29378.06833  28852.71972\n",
      "  25733.96666  19059.74733  10937.3125   10570.97799  12978.27336\n",
      "  17539.99047  17553.08455  20062.24587  22470.39234  21206.33608\n",
      "  23576.25593  26833.75173  24266.74853  21908.54756  18282.1569\n",
      "  19467.73895  16941.20729  16081.41783  16650.16317  16898.99697\n",
      "  14583.84745  13511.12042  13418.21315  14061.08704  17682.80354\n",
      "  17751.86088  15048.40402  13609.69283  12291.78792   9967.582606\n",
      "   8824.174794  7943.653388  8199.370036 12799.9431    9904.35865\n",
      "   9392.770958  8393.553424  9555.526611 10476.78965  11936.51999\n",
      "  13020.96492  11950.00847  10368.85609 ]\n",
      " [13463.19811  13707.21564  13109.31282  12407.65984  28852.71972\n",
      "  10714.11804   9892.565459  6746.019612  6178.808279  7191.368207\n",
      "   7853.565843  7734.412284  8151.086121  8054.226927  7260.627321\n",
      "   7634.181864  7968.103977  7467.792044  7165.3392    6648.818549\n",
      "   7186.586291  7013.199036  6891.593985  7160.398781  8845.777838\n",
      "  10572.20228  10968.92144  11603.87132  11646.66178  11353.80672\n",
      "  12067.55436  12927.5867   14093.53421  15533.27698  15064.14688\n",
      "  14756.204    13080.75885  12705.47153  12799.9431   13916.43703\n",
      "  14924.34219  15132.53262  15410.26022  17189.4056   17325.5259\n",
      "  17332.06461  17562.08851  16984.2804  ]]\n"
     ]
    }
   ],
   "source": [
    "import impyute as impy\n",
    "print(impy.mean(np.array([list(copy1),list(copy2)])))"
   ]
  },
  {
   "cell_type": "code",
   "execution_count": 77,
   "metadata": {},
   "outputs": [
    {
     "data": {
      "text/plain": [
       "[40478.43432,\n",
       " 47271.94657,\n",
       " 30197.10734,\n",
       " 29378.06833,\n",
       " 28852.71972,\n",
       " 25733.96666,\n",
       " 19059.74733,\n",
       " 10937.3125,\n",
       " 10570.97799,\n",
       " 12978.27336,\n",
       " 17539.99047,\n",
       " 17553.08455,\n",
       " 20062.24587,\n",
       " 22470.39234,\n",
       " 21206.33608,\n",
       " 23576.25593,\n",
       " 26833.75173,\n",
       " 24266.74853,\n",
       " 21908.54756,\n",
       " 18282.1569,\n",
       " 19467.73895,\n",
       " 16941.20729,\n",
       " 16081.41783,\n",
       " 16650.16317,\n",
       " 16898.99697,\n",
       " 14583.84745,\n",
       " 13511.12042,\n",
       " 13418.21315,\n",
       " 14061.08704,\n",
       " 17682.80354,\n",
       " 17751.86088,\n",
       " 15048.40402,\n",
       " 13609.69283,\n",
       " 12291.78792,\n",
       " 9967.582606,\n",
       " 8824.174794,\n",
       " 7943.653388,\n",
       " 8199.370036,\n",
       " nan,\n",
       " 9904.35865,\n",
       " 9392.770958,\n",
       " 8393.553424,\n",
       " 9555.526611,\n",
       " 10476.78965,\n",
       " 11936.51999,\n",
       " 13020.96492,\n",
       " 11950.00847,\n",
       " 10368.85609]"
      ]
     },
<<<<<<< HEAD
     "execution_count": 77,
=======
     "execution_count": 17,
>>>>>>> 741842a86ace0fcff9b88ba73f8548dd5e5b40af
     "metadata": {},
     "output_type": "execute_result"
    }
   ],
   "source": [
    "copy"
   ]
  },
  {
   "cell_type": "markdown",
   "metadata": {},
   "source": [
    "## IsolationForest example\n",
    "\n",
    "\n",
    "An example using :class:`sklearn.ensemble.IsolationForest` for anomaly\n",
    "detection.\n",
    "\n",
    "The IsolationForest 'isolates' observations by randomly selecting a feature\n",
    "and then randomly selecting a split value between the maximum and minimum\n",
    "values of the selected feature.\n",
    "\n",
    "Since recursive partitioning can be represented by a tree structure, the\n",
    "number of splittings required to isolate a sample is equivalent to the path\n",
    "length from the root node to the terminating node.\n",
    "\n",
    "This path length, averaged over a forest of such random trees, is a measure\n",
    "of normality and our decision function.\n",
    "\n",
    "Random partitioning produces noticeable shorter paths for anomalies.\n",
    "Hence, when a forest of random trees collectively produce shorter path lengths\n",
    "for particular samples, they are highly likely to be anomalies.\n",
    "\n",
    "\n"
   ]
  },
  {
   "cell_type": "code",
   "execution_count": 18,
   "metadata": {},
   "outputs": [],
   "source": [
    "from sklearn.ensemble import IsolationForest"
   ]
  },
  {
   "cell_type": "code",
   "execution_count": 21,
   "metadata": {},
   "outputs": [],
   "source": [
    "#takes input the variale name and outputs the Isolation_forest score\n",
    "def Isolation_forest(X):\n",
    "    X = Cleaner(str(X))\n",
    "    X = list(zip(X,X))\n",
    "    X = np.array(X)\n",
    "    rng = np.random.RandomState(42)\n",
    "    clf = IsolationForest(behaviour='new', max_samples=100, random_state=rng, contamination='auto')\n",
    "    clf.fit(X)\n",
    "    y_pred = clf.fit_predict(X)\n",
    "    return(y_pred)"
   ]
  },
  {
   "cell_type": "code",
   "execution_count": 20,
   "metadata": {},
   "outputs": [
    {
     "data": {
      "text/plain": [
       "array([ 1,  1,  1,  1,  1,  1,  1, -1, -1, -1,  1,  1,  1,  1,  1,  1,  1,\n",
       "        1,  1,  1,  1,  1,  1,  1,  1, -1, -1, -1, -1,  1,  1,  1, -1,  1,\n",
       "       -1, -1,  1,  1,  1,  1,  1,  1,  1,  1,  1,  1,  1,  1])"
      ]
     },
     "execution_count": 20,
     "metadata": {},
     "output_type": "execute_result"
    }
   ],
   "source": [
    "# An example\n",
    "Isolation_forest(\"AC6.3\")"
   ]
  },
  {
   "cell_type": "code",
   "execution_count": null,
   "metadata": {},
   "outputs": [],
   "source": []
  }
 ],
 "metadata": {
  "celltoolbar": "Raw Cell Format",
  "kernelspec": {
   "display_name": "Python 3",
   "language": "python",
   "name": "python3"
  },
  "language_info": {
   "codemirror_mode": {
    "name": "ipython",
    "version": 3
   },
   "file_extension": ".py",
   "mimetype": "text/x-python",
   "name": "python",
   "nbconvert_exporter": "python",
   "pygments_lexer": "ipython3",
   "version": "3.6.8"
  }
 },
 "nbformat": 4,
 "nbformat_minor": 2
}
