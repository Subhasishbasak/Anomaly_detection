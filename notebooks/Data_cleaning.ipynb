{
 "cells": [
  {
   "cell_type": "markdown",
   "metadata": {},
   "source": [
    "## Credit Suisse"
   ]
  },
  {
   "cell_type": "code",
   "execution_count": 1,
   "metadata": {},
   "outputs": [],
   "source": [
    "import pandas as pd\n",
    "import numpy as np\n",
    "import warnings\n",
    "warnings.filterwarnings(\"ignore\")"
   ]
  },
  {
   "cell_type": "code",
   "execution_count": 2,
   "metadata": {},
   "outputs": [],
   "source": [
    "missing_values = [\"n/a\", \"na\", \"--\", ' ', \"NAN\"]\n",
    "data = pd.read_csv(\"../resources/Data.csv\", na_values = missing_values)"
   ]
  },
  {
   "cell_type": "code",
   "execution_count": 3,
   "metadata": {},
   "outputs": [
    {
     "data": {
      "text/html": [
       "<div>\n",
       "<style scoped>\n",
       "    .dataframe tbody tr th:only-of-type {\n",
       "        vertical-align: middle;\n",
       "    }\n",
       "\n",
       "    .dataframe tbody tr th {\n",
       "        vertical-align: top;\n",
       "    }\n",
       "\n",
       "    .dataframe thead th {\n",
       "        text-align: right;\n",
       "    }\n",
       "</style>\n",
       "<table border=\"1\" class=\"dataframe\">\n",
       "  <thead>\n",
       "    <tr style=\"text-align: right;\">\n",
       "      <th></th>\n",
       "      <th>QTR</th>\n",
       "      <th>AC6</th>\n",
       "      <th>AC6.1</th>\n",
       "      <th>AC6.2</th>\n",
       "      <th>AC6.3</th>\n",
       "      <th>AC5</th>\n",
       "      <th>AC5.1</th>\n",
       "      <th>AC6.4</th>\n",
       "      <th>AC6.5</th>\n",
       "      <th>AC6.6</th>\n",
       "      <th>...</th>\n",
       "      <th>AC6.16</th>\n",
       "      <th>AC6.17</th>\n",
       "      <th>AC6.18</th>\n",
       "      <th>AC6.19</th>\n",
       "      <th>AC6.20</th>\n",
       "      <th>AC7.4</th>\n",
       "      <th>AC7.5</th>\n",
       "      <th>AC2.5</th>\n",
       "      <th>AC2.6</th>\n",
       "      <th>Status</th>\n",
       "    </tr>\n",
       "  </thead>\n",
       "  <tbody>\n",
       "    <tr>\n",
       "      <th>0</th>\n",
       "      <td>NaN</td>\n",
       "      <td>V61</td>\n",
       "      <td>V62</td>\n",
       "      <td>V63</td>\n",
       "      <td>V64</td>\n",
       "      <td>V521</td>\n",
       "      <td>V56</td>\n",
       "      <td>V65</td>\n",
       "      <td>V66</td>\n",
       "      <td>V67</td>\n",
       "      <td>...</td>\n",
       "      <td>V621</td>\n",
       "      <td>V619</td>\n",
       "      <td>V614</td>\n",
       "      <td>V615</td>\n",
       "      <td>V613</td>\n",
       "      <td>V75</td>\n",
       "      <td>V76</td>\n",
       "      <td>V24</td>\n",
       "      <td>V21</td>\n",
       "      <td>NaN</td>\n",
       "    </tr>\n",
       "    <tr>\n",
       "      <th>1</th>\n",
       "      <td>NaN</td>\n",
       "      <td>NOTCHECKED</td>\n",
       "      <td>NOTCHECKED</td>\n",
       "      <td>CHECKED</td>\n",
       "      <td>NOTCHECKED</td>\n",
       "      <td>NOTCHECKED</td>\n",
       "      <td>NOTCHECKED</td>\n",
       "      <td>NOTCHECKED</td>\n",
       "      <td>NOTCHECKED</td>\n",
       "      <td>NOTCHECKED</td>\n",
       "      <td>...</td>\n",
       "      <td>NOTCHECKED</td>\n",
       "      <td>NOTCHECKED</td>\n",
       "      <td>NOTCHECKED</td>\n",
       "      <td>NOTCHECKED</td>\n",
       "      <td>CHECKED</td>\n",
       "      <td>NOTCHECKED</td>\n",
       "      <td>CHECKED</td>\n",
       "      <td>CHECKED</td>\n",
       "      <td>NOTCHECKED</td>\n",
       "      <td>NaN</td>\n",
       "    </tr>\n",
       "    <tr>\n",
       "      <th>2</th>\n",
       "      <td>2007Q1</td>\n",
       "      <td>14.83701892</td>\n",
       "      <td>99.39895748</td>\n",
       "      <td>62.94080546</td>\n",
       "      <td>101.764</td>\n",
       "      <td>1.674048473</td>\n",
       "      <td>3.82953486</td>\n",
       "      <td>1.376969231</td>\n",
       "      <td>1.734046154</td>\n",
       "      <td>1.734892308</td>\n",
       "      <td>...</td>\n",
       "      <td>2.882427354</td>\n",
       "      <td>2.574383623</td>\n",
       "      <td>4.151536606</td>\n",
       "      <td>1.851110209</td>\n",
       "      <td>0.293229125</td>\n",
       "      <td>92.44514042</td>\n",
       "      <td>2852.292845</td>\n",
       "      <td>192.4493716</td>\n",
       "      <td>6466.172493</td>\n",
       "      <td>NOTCHECKED</td>\n",
       "    </tr>\n",
       "    <tr>\n",
       "      <th>3</th>\n",
       "      <td>2007Q2</td>\n",
       "      <td>14.90709017</td>\n",
       "      <td>91.33259965</td>\n",
       "      <td>58.44709848</td>\n",
       "      <td>101.1369231</td>\n",
       "      <td>3.004369667</td>\n",
       "      <td>3.82953486</td>\n",
       "      <td>1.400923077</td>\n",
       "      <td>1.547769231</td>\n",
       "      <td>1.698153846</td>\n",
       "      <td>...</td>\n",
       "      <td>2.968603516</td>\n",
       "      <td>2.680464049</td>\n",
       "      <td>4.151519695</td>\n",
       "      <td>1.851584132</td>\n",
       "      <td>0.293911596</td>\n",
       "      <td>91.0359477</td>\n",
       "      <td>2877.140392</td>\n",
       "      <td>202.1334248</td>\n",
       "      <td>6720.868911</td>\n",
       "      <td>NOTCHECKED</td>\n",
       "    </tr>\n",
       "    <tr>\n",
       "      <th>4</th>\n",
       "      <td>2007Q3</td>\n",
       "      <td>23.21522878</td>\n",
       "      <td>117.8079253</td>\n",
       "      <td>87.46058542</td>\n",
       "      <td>98.30738462</td>\n",
       "      <td>2.909346725</td>\n",
       "      <td>3.342410308</td>\n",
       "      <td>2.126230769</td>\n",
       "      <td>1.973061538</td>\n",
       "      <td>2.402969231</td>\n",
       "      <td>...</td>\n",
       "      <td>2.977815816</td>\n",
       "      <td>2.701522102</td>\n",
       "      <td>4.228532862</td>\n",
       "      <td>1.869284404</td>\n",
       "      <td>0.291331291</td>\n",
       "      <td>108.3190147</td>\n",
       "      <td>2668.667999</td>\n",
       "      <td>201.2074925</td>\n",
       "      <td>7548.173885</td>\n",
       "      <td>NOTCHECKED</td>\n",
       "    </tr>\n",
       "  </tbody>\n",
       "</table>\n",
       "<p>5 rows × 78 columns</p>\n",
       "</div>"
      ],
      "text/plain": [
       "      QTR          AC6        AC6.1        AC6.2        AC6.3          AC5  \\\n",
       "0     NaN          V61          V62          V63          V64         V521   \n",
       "1     NaN   NOTCHECKED   NOTCHECKED      CHECKED   NOTCHECKED   NOTCHECKED   \n",
       "2  2007Q1  14.83701892  99.39895748  62.94080546      101.764  1.674048473   \n",
       "3  2007Q2  14.90709017  91.33259965  58.44709848  101.1369231  3.004369667   \n",
       "4  2007Q3  23.21522878  117.8079253  87.46058542  98.30738462  2.909346725   \n",
       "\n",
       "         AC5.1        AC6.4        AC6.5        AC6.6  ...       AC6.16  \\\n",
       "0          V56          V65          V66          V67  ...         V621   \n",
       "1   NOTCHECKED   NOTCHECKED   NOTCHECKED   NOTCHECKED  ...   NOTCHECKED   \n",
       "2   3.82953486  1.376969231  1.734046154  1.734892308  ...  2.882427354   \n",
       "3   3.82953486  1.400923077  1.547769231  1.698153846  ...  2.968603516   \n",
       "4  3.342410308  2.126230769  1.973061538  2.402969231  ...  2.977815816   \n",
       "\n",
       "        AC6.17       AC6.18       AC6.19       AC6.20        AC7.4  \\\n",
       "0         V619         V614         V615         V613          V75   \n",
       "1   NOTCHECKED   NOTCHECKED   NOTCHECKED      CHECKED   NOTCHECKED   \n",
       "2  2.574383623  4.151536606  1.851110209  0.293229125  92.44514042   \n",
       "3  2.680464049  4.151519695  1.851584132  0.293911596   91.0359477   \n",
       "4  2.701522102  4.228532862  1.869284404  0.291331291  108.3190147   \n",
       "\n",
       "         AC7.5        AC2.5        AC2.6      Status  \n",
       "0          V76          V24          V21         NaN  \n",
       "1      CHECKED      CHECKED   NOTCHECKED         NaN  \n",
       "2  2852.292845  192.4493716  6466.172493  NOTCHECKED  \n",
       "3  2877.140392  202.1334248  6720.868911  NOTCHECKED  \n",
       "4  2668.667999  201.2074925  7548.173885  NOTCHECKED  \n",
       "\n",
       "[5 rows x 78 columns]"
      ]
     },
     "execution_count": 3,
     "metadata": {},
     "output_type": "execute_result"
    }
   ],
   "source": [
    "data.head()"
   ]
  },
  {
   "cell_type": "code",
   "execution_count": 4,
   "metadata": {},
   "outputs": [
    {
     "data": {
      "text/plain": [
       "(50, 78)"
      ]
     },
     "execution_count": 4,
     "metadata": {},
     "output_type": "execute_result"
    }
   ],
   "source": [
    "data.shape"
   ]
  },
  {
   "cell_type": "code",
   "execution_count": 5,
   "metadata": {},
   "outputs": [
    {
     "name": "stdout",
     "output_type": "stream",
     "text": [
      "['AC1', 'AC1.1', 'AC1.2', 'AC1.3', 'AC1.4', 'AC2', 'AC2.1', 'AC2.2', 'AC2.3', 'AC2.4', 'AC2.5', 'AC2.6', 'AC3', 'AC3.1', 'AC3.2', 'AC3.3', 'AC3.4', 'AC4', 'AC4.1', 'AC4.2', 'AC4.3', 'AC4.4', 'AC4.5', 'AC5', 'AC5.1', 'AC5.10', 'AC5.11', 'AC5.12', 'AC5.13', 'AC5.14', 'AC5.15', 'AC5.16', 'AC5.17', 'AC5.18', 'AC5.2', 'AC5.3', 'AC5.4', 'AC5.5', 'AC5.6', 'AC5.7', 'AC5.8', 'AC5.9', 'AC6', 'AC6.1', 'AC6.10', 'AC6.11', 'AC6.12', 'AC6.13', 'AC6.14', 'AC6.15', 'AC6.16', 'AC6.17', 'AC6.18', 'AC6.19', 'AC6.2', 'AC6.20', 'AC6.3', 'AC6.4', 'AC6.5', 'AC6.6', 'AC6.7', 'AC6.8', 'AC6.9', 'AC7', 'AC7.1', 'AC7.2', 'AC7.3', 'AC7.4', 'AC7.5', 'AC8', 'AC8.1', 'AC8.2', 'AC8.3', 'AC8.4', 'AC8.5', 'AC8.6']\n"
     ]
    }
   ],
   "source": [
    "col_names = []\n",
    "for i in data.columns:\n",
    "    col_names.append(i)\n",
    "variables = sorted(col_names)[:76]\n",
    "print(variables)"
   ]
  },
  {
   "cell_type": "code",
   "execution_count": 6,
   "metadata": {},
   "outputs": [],
   "source": [
    "# Dictionary storing the data type (Checked or Not-checked)\n",
    "data_type = {}\n",
    "for i in variables:\n",
    "    data_type[i] = data[i][1]"
   ]
  },
  {
   "cell_type": "code",
   "execution_count": 7,
   "metadata": {},
   "outputs": [],
   "source": [
    "# Filters the data for the missing values (for e.g. ' ', NAN, na, n/a)\n",
    "def Isnan(x):\n",
    "    x = np.array(data[x][2:])\n",
    "    x_cleaned = [float(i) for i in x if str(i) != 'nan']\n",
    "    if len(x) == len(x_cleaned):\n",
    "        return(\"No missing values found\")\n",
    "    else:\n",
    "        return(\"missing values found\")"
   ]
  },
  {
   "cell_type": "code",
   "execution_count": 8,
   "metadata": {},
   "outputs": [],
   "source": [
    "# Filters the data for the missing values (for e.g. ' ', NAN, na, n/a)\n",
    "def Cleaner(x):\n",
    "    x = np.array(data[x][2:])\n",
    "    x_cleaned = [float(i) for i in x if str(i) != 'nan']\n",
    "    return x_cleaned"
   ]
  },
  {
   "cell_type": "code",
   "execution_count": 9,
   "metadata": {},
   "outputs": [],
   "source": [
    "# checked & not_checked are list storing checked & not_checked variables respestively\n",
    "checked = []\n",
    "not_checked = []\n",
    "for i in variables:\n",
    "    if data_type[i] == 'CHECKED':\n",
    "        checked.append(i)\n",
    "    else:\n",
    "        not_checked.append(i)"
   ]
  },
  {
   "cell_type": "code",
   "execution_count": 10,
   "metadata": {},
   "outputs": [],
   "source": [
    "not_checked_no_missingvalue = []\n",
    "for i in not_checked:\n",
    "    if Isnan(i) == 'No missing values found':\n",
    "        not_checked_no_missingvalue.append(i)"
   ]
  },
  {
   "cell_type": "code",
   "execution_count": 11,
   "metadata": {},
   "outputs": [
    {
     "data": {
      "text/plain": [
       "(9, 67)"
      ]
     },
     "execution_count": 11,
     "metadata": {},
     "output_type": "execute_result"
    }
   ],
   "source": [
    "len(checked),len(not_checked)"
   ]
  },
  {
   "cell_type": "code",
   "execution_count": 12,
   "metadata": {},
   "outputs": [],
   "source": [
    "result = pd.DataFrame(columns = variables)\n",
    "for i in variables:\n",
    "    result[i] = list(np.arange(1,49))\n",
    "result.insert(0, \"QTR\", list(data['QTR'][2:]),True)     "
   ]
  },
  {
   "cell_type": "markdown",
   "metadata": {},
   "source": [
    "## Outlier detection with Local Outlier Factor (LOF)"
   ]
  },
  {
   "cell_type": "markdown",
   "metadata": {},
   "source": [
    "The Local Outlier Factor (LOF) algorithm is an unsupervised anomaly detection method which computes the local density deviation of a given data point with respect to its neighbors. It considers as outliers the samples that have a substantially lower density than their neighbors. This example shows how to use LOF for outlier detection which is the default use case of this estimator in scikit-learn. Note that when LOF is used for outlier detection it has no predict, decision_function and score_samples methods. See User Guide <outlier_detection>: for details on the difference between outlier detection and novelty detection and how to use LOF for novelty detection.\n",
    "\n",
    "The number of neighbors considered (parameter n_neighbors) is typically set 1) greater than the minimum number of samples a cluster has to contain, so that other samples can be local outliers relative to this cluster, and 2) smaller than the maximum number of close by samples that can potentially be local outliers. In practice, such informations are generally not available, and taking n_neighbors=20 appears to work well in general."
   ]
  },
  {
   "cell_type": "code",
   "execution_count": 13,
   "metadata": {},
   "outputs": [],
   "source": [
    "import matplotlib.pyplot as plt\n",
    "from sklearn.neighbors import LocalOutlierFactor"
   ]
  },
  {
   "cell_type": "code",
   "execution_count": 14,
   "metadata": {},
   "outputs": [],
   "source": [
    "def LOF_values(X):\n",
    "    X = Cleaner(str(X))\n",
    "    X = list(zip(X,X))\n",
    "    X = np.array(X)\n",
    "    clf = LocalOutlierFactor(n_neighbors=20, algorithm = 'auto')\n",
    "    y_pred = clf.fit_predict(X)\n",
    "    return(y_pred)"
   ]
  },
  {
   "cell_type": "code",
   "execution_count": 15,
   "metadata": {},
   "outputs": [],
   "source": [
    "# Storing the results in results:\n",
    "for i in not_checked_no_missingvalue:\n",
    "    result[i] = list(LOF_values(i))"
   ]
  },
  {
   "cell_type": "code",
   "execution_count": 16,
   "metadata": {},
   "outputs": [
    {
     "data": {
      "text/html": [
       "<div>\n",
       "<style scoped>\n",
       "    .dataframe tbody tr th:only-of-type {\n",
       "        vertical-align: middle;\n",
       "    }\n",
       "\n",
       "    .dataframe tbody tr th {\n",
       "        vertical-align: top;\n",
       "    }\n",
       "\n",
       "    .dataframe thead th {\n",
       "        text-align: right;\n",
       "    }\n",
       "</style>\n",
       "<table border=\"1\" class=\"dataframe\">\n",
       "  <thead>\n",
       "    <tr style=\"text-align: right;\">\n",
       "      <th></th>\n",
       "      <th>QTR</th>\n",
       "      <th>AC1</th>\n",
       "      <th>AC1.1</th>\n",
       "      <th>AC1.2</th>\n",
       "      <th>AC1.3</th>\n",
       "      <th>AC1.4</th>\n",
       "      <th>AC2</th>\n",
       "      <th>AC2.1</th>\n",
       "      <th>AC2.2</th>\n",
       "      <th>AC2.3</th>\n",
       "      <th>...</th>\n",
       "      <th>AC7.3</th>\n",
       "      <th>AC7.4</th>\n",
       "      <th>AC7.5</th>\n",
       "      <th>AC8</th>\n",
       "      <th>AC8.1</th>\n",
       "      <th>AC8.2</th>\n",
       "      <th>AC8.3</th>\n",
       "      <th>AC8.4</th>\n",
       "      <th>AC8.5</th>\n",
       "      <th>AC8.6</th>\n",
       "    </tr>\n",
       "  </thead>\n",
       "  <tbody>\n",
       "    <tr>\n",
       "      <th>0</th>\n",
       "      <td>2007Q1</td>\n",
       "      <td>1</td>\n",
       "      <td>1</td>\n",
       "      <td>1</td>\n",
       "      <td>1</td>\n",
       "      <td>1</td>\n",
       "      <td>-1</td>\n",
       "      <td>1</td>\n",
       "      <td>1</td>\n",
       "      <td>1</td>\n",
       "      <td>...</td>\n",
       "      <td>1</td>\n",
       "      <td>1</td>\n",
       "      <td>1</td>\n",
       "      <td>1</td>\n",
       "      <td>1</td>\n",
       "      <td>1</td>\n",
       "      <td>1</td>\n",
       "      <td>1</td>\n",
       "      <td>1</td>\n",
       "      <td>1</td>\n",
       "    </tr>\n",
       "    <tr>\n",
       "      <th>1</th>\n",
       "      <td>2007Q2</td>\n",
       "      <td>1</td>\n",
       "      <td>1</td>\n",
       "      <td>1</td>\n",
       "      <td>1</td>\n",
       "      <td>2</td>\n",
       "      <td>-1</td>\n",
       "      <td>1</td>\n",
       "      <td>1</td>\n",
       "      <td>2</td>\n",
       "      <td>...</td>\n",
       "      <td>1</td>\n",
       "      <td>2</td>\n",
       "      <td>2</td>\n",
       "      <td>2</td>\n",
       "      <td>2</td>\n",
       "      <td>1</td>\n",
       "      <td>1</td>\n",
       "      <td>1</td>\n",
       "      <td>1</td>\n",
       "      <td>1</td>\n",
       "    </tr>\n",
       "    <tr>\n",
       "      <th>2</th>\n",
       "      <td>2007Q3</td>\n",
       "      <td>1</td>\n",
       "      <td>1</td>\n",
       "      <td>1</td>\n",
       "      <td>1</td>\n",
       "      <td>3</td>\n",
       "      <td>-1</td>\n",
       "      <td>1</td>\n",
       "      <td>1</td>\n",
       "      <td>3</td>\n",
       "      <td>...</td>\n",
       "      <td>1</td>\n",
       "      <td>3</td>\n",
       "      <td>3</td>\n",
       "      <td>3</td>\n",
       "      <td>3</td>\n",
       "      <td>1</td>\n",
       "      <td>1</td>\n",
       "      <td>1</td>\n",
       "      <td>1</td>\n",
       "      <td>1</td>\n",
       "    </tr>\n",
       "    <tr>\n",
       "      <th>3</th>\n",
       "      <td>2007Q4</td>\n",
       "      <td>1</td>\n",
       "      <td>1</td>\n",
       "      <td>1</td>\n",
       "      <td>1</td>\n",
       "      <td>4</td>\n",
       "      <td>-1</td>\n",
       "      <td>1</td>\n",
       "      <td>1</td>\n",
       "      <td>4</td>\n",
       "      <td>...</td>\n",
       "      <td>1</td>\n",
       "      <td>4</td>\n",
       "      <td>4</td>\n",
       "      <td>4</td>\n",
       "      <td>4</td>\n",
       "      <td>1</td>\n",
       "      <td>1</td>\n",
       "      <td>-1</td>\n",
       "      <td>1</td>\n",
       "      <td>1</td>\n",
       "    </tr>\n",
       "    <tr>\n",
       "      <th>4</th>\n",
       "      <td>2008Q1</td>\n",
       "      <td>1</td>\n",
       "      <td>1</td>\n",
       "      <td>1</td>\n",
       "      <td>1</td>\n",
       "      <td>5</td>\n",
       "      <td>1</td>\n",
       "      <td>1</td>\n",
       "      <td>1</td>\n",
       "      <td>5</td>\n",
       "      <td>...</td>\n",
       "      <td>1</td>\n",
       "      <td>5</td>\n",
       "      <td>5</td>\n",
       "      <td>5</td>\n",
       "      <td>5</td>\n",
       "      <td>1</td>\n",
       "      <td>-1</td>\n",
       "      <td>-1</td>\n",
       "      <td>-1</td>\n",
       "      <td>1</td>\n",
       "    </tr>\n",
       "  </tbody>\n",
       "</table>\n",
       "<p>5 rows × 77 columns</p>\n",
       "</div>"
      ],
      "text/plain": [
       "      QTR  AC1  AC1.1  AC1.2  AC1.3  AC1.4  AC2  AC2.1  AC2.2  AC2.3  ...  \\\n",
       "0  2007Q1    1      1      1      1      1   -1      1      1      1  ...   \n",
       "1  2007Q2    1      1      1      1      2   -1      1      1      2  ...   \n",
       "2  2007Q3    1      1      1      1      3   -1      1      1      3  ...   \n",
       "3  2007Q4    1      1      1      1      4   -1      1      1      4  ...   \n",
       "4  2008Q1    1      1      1      1      5    1      1      1      5  ...   \n",
       "\n",
       "   AC7.3  AC7.4  AC7.5  AC8  AC8.1  AC8.2  AC8.3  AC8.4  AC8.5  AC8.6  \n",
       "0      1      1      1    1      1      1      1      1      1      1  \n",
       "1      1      2      2    2      2      1      1      1      1      1  \n",
       "2      1      3      3    3      3      1      1      1      1      1  \n",
       "3      1      4      4    4      4      1      1     -1      1      1  \n",
       "4      1      5      5    5      5      1     -1     -1     -1      1  \n",
       "\n",
       "[5 rows x 77 columns]"
      ]
     },
     "execution_count": 16,
     "metadata": {},
     "output_type": "execute_result"
    }
   ],
   "source": [
    "result.head()"
   ]
  },
  {
   "cell_type": "code",
   "execution_count": 17,
   "metadata": {},
   "outputs": [],
   "source": [
    "col_with_missingval = []\n",
    "for i in variables:\n",
    "    if Isnan(i) == \"missing values found\":\n",
    "        col_with_missingval.append(i)"
   ]
  },
  {
   "cell_type": "code",
   "execution_count": 128,
   "metadata": {},
   "outputs": [],
   "source": [
    "missing_value_df = pd.DataFrame(data[i][2:] for i in col_with_missingval)\n",
    "missing_value_df = missing_value_df.transpose()\n",
    "missing_value_df = missing_value_df.astype(float)\n",
    "missing_value_df = missing_value_df.interpolate()"
   ]
  },
  {
   "cell_type": "code",
   "execution_count": 142,
   "metadata": {},
   "outputs": [],
   "source": [
    "def LOF_missing_value(X):\n",
    "    X = list(zip(X,X))\n",
    "    X = np.array(X)\n",
    "    clf = LocalOutlierFactor(n_neighbors=20, algorithm = 'auto')\n",
    "    y_pred = clf.fit_predict(X)\n",
    "    return(y_pred)"
   ]
  },
  {
   "cell_type": "code",
   "execution_count": 143,
   "metadata": {},
   "outputs": [],
   "source": [
    "for i in col_with_missingval:\n",
    "    result[i] = list(LOF_missing_value(missing_value_df[i]))"
   ]
  },
  {
   "cell_type": "code",
   "execution_count": 153,
   "metadata": {},
   "outputs": [],
   "source": [
    "import matplotlib.pyplot as plt"
   ]
  },
  {
   "cell_type": "code",
   "execution_count": 156,
   "metadata": {},
   "outputs": [
    {
     "data": {
      "text/plain": [
       "[<matplotlib.lines.Line2D at 0x7fc01000d0b8>]"
      ]
     },
     "execution_count": 156,
     "metadata": {},
     "output_type": "execute_result"
    },
    {
     "data": {
      "image/png": "[encoded data removed]",
      "text/plain": [
       "<Figure size 432x288 with 1 Axes>"
      ]
     },
     "metadata": {
      "needs_background": "light"
     },
     "output_type": "display_data"
    }
   ],
   "source": [
    "plt.plot(list(map(float,data['AC1.4'][2:])))"
   ]
  },
  {
   "cell_type": "code",
   "execution_count": 157,
   "metadata": {},
   "outputs": [
    {
     "data": {
      "text/plain": [
       "[<matplotlib.lines.Line2D at 0x7fc010359198>]"
      ]
     },
     "execution_count": 157,
     "metadata": {},
     "output_type": "execute_result"
    },
    {
     "data": {
      "image/png": "[encoded data removed]",
      "text/plain": [
       "<Figure size 432x288 with 1 Axes>"
      ]
     },
     "metadata": {
      "needs_background": "light"
     },
     "output_type": "display_data"
    }
   ],
   "source": [
    "plt.plot(missing_value_df['AC1.4'])"
   ]
  },
  {
   "cell_type": "code",
   "execution_count": null,
   "metadata": {},
   "outputs": [],
   "source": []
  }
 ],
 "metadata": {
  "kernelspec": {
   "display_name": "Python 3",
   "language": "python",
   "name": "python3"
  },
  "language_info": {
   "codemirror_mode": {
    "name": "ipython",
    "version": 3
   },
   "file_extension": ".py",
   "mimetype": "text/x-python",
   "name": "python",
   "nbconvert_exporter": "python",
   "pygments_lexer": "ipython3",
   "version": "3.7.3"
  }
 },
 "nbformat": 4,
 "nbformat_minor": 2
}
